{
 "cells": [
  {
   "cell_type": "markdown",
   "id": "b1da5326",
   "metadata": {},
   "source": [
    "# Solve 30 exercises from 100"
   ]
  },
  {
   "cell_type": "code",
   "execution_count": 1,
   "id": "1943a031",
   "metadata": {},
   "outputs": [],
   "source": [
    "#### 1. Import the numpy package under the name `np` (★☆☆)\n",
    "import numpy as np\n"
   ]
  },
  {
   "cell_type": "code",
   "execution_count": 2,
   "id": "1ef924f1",
   "metadata": {},
   "outputs": [
    {
     "name": "stdout",
     "output_type": "stream",
     "text": [
      "NumPy version: 1.24.3\n",
      "\n",
      "NumPy configuration:\n",
      "blas_armpl_info:\n",
      "  NOT AVAILABLE\n",
      "blas_mkl_info:\n",
      "    libraries = ['mkl_rt']\n",
      "    library_dirs = ['C:/Users/HP/anaconda3\\\\Library\\\\lib']\n",
      "    define_macros = [('SCIPY_MKL_H', None), ('HAVE_CBLAS', None)]\n",
      "    include_dirs = ['C:/Users/HP/anaconda3\\\\Library\\\\include']\n",
      "blas_opt_info:\n",
      "    libraries = ['mkl_rt']\n",
      "    library_dirs = ['C:/Users/HP/anaconda3\\\\Library\\\\lib']\n",
      "    define_macros = [('SCIPY_MKL_H', None), ('HAVE_CBLAS', None)]\n",
      "    include_dirs = ['C:/Users/HP/anaconda3\\\\Library\\\\include']\n",
      "lapack_armpl_info:\n",
      "  NOT AVAILABLE\n",
      "lapack_mkl_info:\n",
      "    libraries = ['mkl_rt']\n",
      "    library_dirs = ['C:/Users/HP/anaconda3\\\\Library\\\\lib']\n",
      "    define_macros = [('SCIPY_MKL_H', None), ('HAVE_CBLAS', None)]\n",
      "    include_dirs = ['C:/Users/HP/anaconda3\\\\Library\\\\include']\n",
      "lapack_opt_info:\n",
      "    libraries = ['mkl_rt']\n",
      "    library_dirs = ['C:/Users/HP/anaconda3\\\\Library\\\\lib']\n",
      "    define_macros = [('SCIPY_MKL_H', None), ('HAVE_CBLAS', None)]\n",
      "    include_dirs = ['C:/Users/HP/anaconda3\\\\Library\\\\include']\n",
      "Supported SIMD extensions in this NumPy install:\n",
      "    baseline = SSE,SSE2,SSE3\n",
      "    found = SSSE3,SSE41,POPCNT,SSE42,AVX,F16C,FMA3,AVX2\n",
      "    not found = AVX512F,AVX512CD,AVX512_SKX,AVX512_CLX,AVX512_CNL,AVX512_ICL\n",
      "None\n"
     ]
    }
   ],
   "source": [
    "#### 2. Print the numpy version and the configuration (★☆☆)\n",
    "import numpy as np\n",
    "\n",
    "print(\"NumPy version:\", np.__version__)\n",
    "print(\"\\nNumPy configuration:\")\n",
    "print(np.show_config())\n"
   ]
  },
  {
   "cell_type": "code",
   "execution_count": 3,
   "id": "2b3a59cb",
   "metadata": {},
   "outputs": [
    {
     "name": "stdout",
     "output_type": "stream",
     "text": [
      "[0. 0. 0. 0. 0. 0. 0. 0. 0. 0.]\n"
     ]
    }
   ],
   "source": [
    "#### 3. Create a null vector of size 10 (★☆☆)\n",
    "import numpy as np\n",
    "\n",
    "null_vector = np.zeros(10)\n",
    "print(null_vector)\n"
   ]
  },
  {
   "cell_type": "code",
   "execution_count": 5,
   "id": "0eee7ba6",
   "metadata": {},
   "outputs": [
    {
     "name": "stdout",
     "output_type": "stream",
     "text": [
      "Memory size of the array: 128 bytes\n"
     ]
    }
   ],
   "source": [
    "#### 4. How to find the memory size of any array (★☆☆)\n",
    "import numpy as np\n",
    "\n",
    "# Create a sample array\n",
    "arr = np.zeros((4, 4))  \n",
    "\n",
    "# Calculate memory size in bytes\n",
    "memory_size = arr.nbytes\n",
    "\n",
    "print(\"Memory size of the array:\", memory_size, \"bytes\")\n"
   ]
  },
  {
   "cell_type": "code",
   "execution_count": 7,
   "id": "64da6a0a",
   "metadata": {},
   "outputs": [
    {
     "name": "stdout",
     "output_type": "stream",
     "text": [
      "Help on ufunc:\n",
      "\n",
      "add = <ufunc 'add'>\n",
      "    add(x1, x2, /, out=None, *, where=True, casting='same_kind', order='K', dtype=None, subok=True[, signature, extobj])\n",
      "    \n",
      "    Add arguments element-wise.\n",
      "    \n",
      "    Parameters\n",
      "    ----------\n",
      "    x1, x2 : array_like\n",
      "        The arrays to be added.\n",
      "        If ``x1.shape != x2.shape``, they must be broadcastable to a common\n",
      "        shape (which becomes the shape of the output).\n",
      "    out : ndarray, None, or tuple of ndarray and None, optional\n",
      "        A location into which the result is stored. If provided, it must have\n",
      "        a shape that the inputs broadcast to. If not provided or None,\n",
      "        a freshly-allocated array is returned. A tuple (possible only as a\n",
      "        keyword argument) must have length equal to the number of outputs.\n",
      "    where : array_like, optional\n",
      "        This condition is broadcast over the input. At locations where the\n",
      "        condition is True, the `out` array will be set to the ufunc result.\n",
      "        Elsewhere, the `out` array will retain its original value.\n",
      "        Note that if an uninitialized `out` array is created via the default\n",
      "        ``out=None``, locations within it where the condition is False will\n",
      "        remain uninitialized.\n",
      "    **kwargs\n",
      "        For other keyword-only arguments, see the\n",
      "        :ref:`ufunc docs <ufuncs.kwargs>`.\n",
      "    \n",
      "    Returns\n",
      "    -------\n",
      "    add : ndarray or scalar\n",
      "        The sum of `x1` and `x2`, element-wise.\n",
      "        This is a scalar if both `x1` and `x2` are scalars.\n",
      "    \n",
      "    Notes\n",
      "    -----\n",
      "    Equivalent to `x1` + `x2` in terms of array broadcasting.\n",
      "    \n",
      "    Examples\n",
      "    --------\n",
      "    >>> np.add(1.0, 4.0)\n",
      "    5.0\n",
      "    >>> x1 = np.arange(9.0).reshape((3, 3))\n",
      "    >>> x2 = np.arange(3.0)\n",
      "    >>> np.add(x1, x2)\n",
      "    array([[  0.,   2.,   4.],\n",
      "           [  3.,   5.,   7.],\n",
      "           [  6.,   8.,  10.]])\n",
      "    \n",
      "    The ``+`` operator can be used as a shorthand for ``np.add`` on ndarrays.\n",
      "    \n",
      "    >>> x1 = np.arange(9.0).reshape((3, 3))\n",
      "    >>> x2 = np.arange(3.0)\n",
      "    >>> x1 + x2\n",
      "    array([[ 0.,  2.,  4.],\n",
      "           [ 3.,  5.,  7.],\n",
      "           [ 6.,  8., 10.]])\n",
      "\n"
     ]
    }
   ],
   "source": [
    "#### 5. How to get the documentation of the numpy add function from the command line? (★☆☆)\n",
    "import numpy as np; help(np.add)\n"
   ]
  },
  {
   "cell_type": "code",
   "execution_count": 8,
   "id": "8bffbc93",
   "metadata": {},
   "outputs": [
    {
     "name": "stdout",
     "output_type": "stream",
     "text": [
      "[0. 0. 0. 0. 1. 0. 0. 0. 0. 0.]\n"
     ]
    }
   ],
   "source": [
    "#### 6. Create a null vector of size 10 but the fifth value which is 1 (★☆☆)\n",
    "import numpy as np\n",
    "\n",
    "null_vector = np.zeros(10)\n",
    "null_vector[4] = 1  # Set the fifth value \n",
    "print(null_vector)\n"
   ]
  },
  {
   "cell_type": "code",
   "execution_count": 11,
   "id": "f2da86b4",
   "metadata": {},
   "outputs": [
    {
     "name": "stdout",
     "output_type": "stream",
     "text": [
      "[10 11 12 13 14 15 16 17 18 19 20 21 22 23 24 25 26 27 28 29 30 31 32 33\n",
      " 34 35 36 37 38 39 40 41 42 43 44 45 46 47 48 49]\n"
     ]
    }
   ],
   "source": [
    "#### 7. Create a vector with values ranging from 10 to 49 (★☆☆)\n",
    "import numpy as np\n",
    "\n",
    "vector_10_to_49 = np.arange(10, 50)\n",
    "print(vector_10_to_49)\n"
   ]
  },
  {
   "cell_type": "code",
   "execution_count": 12,
   "id": "b0eb9fe2",
   "metadata": {},
   "outputs": [
    {
     "name": "stdout",
     "output_type": "stream",
     "text": [
      "Original vector: [1 2 3 4 5]\n",
      "Reversed vector: [5 4 3 2 1]\n"
     ]
    }
   ],
   "source": [
    "#### 8. Reverse a vector (first element becomes last) (★☆☆)\n",
    "import numpy as np\n",
    "\n",
    "original_vector = np.array([1, 2, 3, 4, 5])  # Example vector (replace with your vector)\n",
    "reversed_vector = original_vector[::-1]\n",
    "\n",
    "print(\"Original vector:\", original_vector)\n",
    "print(\"Reversed vector:\", reversed_vector)\n"
   ]
  },
  {
   "cell_type": "code",
   "execution_count": 15,
   "id": "ea85172e",
   "metadata": {},
   "outputs": [
    {
     "name": "stdout",
     "output_type": "stream",
     "text": [
      "[[0 1 2]\n",
      " [3 4 5]\n",
      " [6 7 8]]\n"
     ]
    }
   ],
   "source": [
    "#### 9. Create a 3x3 matrix with values ranging from 0 to 8 (★☆☆)\n",
    "import numpy as np\n",
    "\n",
    "matrix_3x3 = np.arange(9).reshape(3, 3)\n",
    "print(matrix_3x3)\n"
   ]
  },
  {
   "cell_type": "code",
   "execution_count": 16,
   "id": "a2adec80",
   "metadata": {},
   "outputs": [
    {
     "name": "stdout",
     "output_type": "stream",
     "text": [
      "Indices of non-zero elements: (array([0, 1, 4], dtype=int64),)\n"
     ]
    }
   ],
   "source": [
    "#### 10. Find indices of non-zero elements from [1,2,0,0,4,0] (★☆☆)\n",
    "import numpy as np\n",
    "\n",
    "arr = np.array([1, 2, 0, 0, 4, 0])\n",
    "nonzero_indices = np.nonzero(arr)\n",
    "\n",
    "print(\"Indices of non-zero elements:\", nonzero_indices)\n"
   ]
  },
  {
   "cell_type": "code",
   "execution_count": 17,
   "id": "c4638875",
   "metadata": {},
   "outputs": [
    {
     "name": "stdout",
     "output_type": "stream",
     "text": [
      "[[1. 0. 0.]\n",
      " [0. 1. 0.]\n",
      " [0. 0. 1.]]\n"
     ]
    }
   ],
   "source": [
    "#### 11. Create a 3x3 identity matrix (★☆☆)\n",
    "import numpy as np\n",
    "\n",
    "identity_matrix = np.eye(3)\n",
    "print(identity_matrix)\n"
   ]
  },
  {
   "cell_type": "code",
   "execution_count": 18,
   "id": "bbd59c75",
   "metadata": {},
   "outputs": [
    {
     "name": "stdout",
     "output_type": "stream",
     "text": [
      "[[[0.41504511 0.07971764 0.77895431]\n",
      "  [0.92088936 0.16669365 0.45217773]\n",
      "  [0.35796274 0.78043131 0.01596194]]\n",
      "\n",
      " [[0.67984964 0.73288702 0.5884693 ]\n",
      "  [0.1369469  0.74051647 0.94266106]\n",
      "  [0.20173983 0.52293702 0.84327247]]\n",
      "\n",
      " [[0.98648293 0.96287605 0.85731975]\n",
      "  [0.84661548 0.68347097 0.67064581]\n",
      "  [0.17050217 0.16067235 0.06344879]]]\n"
     ]
    }
   ],
   "source": [
    "#### 12. Create a 3x3x3 array with random values (★☆☆)\n",
    "import numpy as np\n",
    "\n",
    "random_array_3x3x3 = np.random.rand(3, 3, 3)\n",
    "print(random_array_3x3x3)\n"
   ]
  },
  {
   "cell_type": "code",
   "execution_count": 19,
   "id": "30c86c4e",
   "metadata": {},
   "outputs": [
    {
     "name": "stdout",
     "output_type": "stream",
     "text": [
      "Minimum value: 0.020747044362116385\n",
      "Maximum value: 0.993172432334869\n"
     ]
    }
   ],
   "source": [
    "#### 13. Create a 10x10 array with random values and find the minimum and maximum values (★☆☆)\n",
    "import numpy as np\n",
    "\n",
    "# Create a 10x10 array with random values\n",
    "random_array_10x10 = np.random.rand(10, 10)\n",
    "\n",
    "# Find the minimum and maximum values in the array\n",
    "min_value = np.min(random_array_10x10)\n",
    "max_value = np.max(random_array_10x10)\n",
    "\n",
    "print(\"Minimum value:\", min_value)\n",
    "print(\"Maximum value:\", max_value)\n"
   ]
  },
  {
   "cell_type": "code",
   "execution_count": 20,
   "id": "95b9ffce",
   "metadata": {},
   "outputs": [
    {
     "name": "stdout",
     "output_type": "stream",
     "text": [
      "Random vector: [ 0.17920982  1.56654198 -0.60785542  0.91890593  0.73372901  0.67597262\n",
      " -0.10974645 -0.29902192 -0.39340294  0.37029869 -1.55691324 -2.41816342\n",
      " -1.01335934  1.93084235 -0.2422475   1.20548746 -1.17058189 -0.84608993\n",
      " -1.00089622  2.20165116 -0.59091297  0.66508778 -0.51817141  0.64147732\n",
      " -0.24855537 -0.18714512 -0.11922466 -0.49636818  1.01048743 -0.219361  ]\n",
      "Mean value: 0.0020558185635322895\n"
     ]
    }
   ],
   "source": [
    "#### 14. Create a random vector of size 30 and find the mean value (★☆☆)\n",
    "import numpy as np\n",
    "\n",
    "# Create a random vector of size 30\n",
    "random_vector = np.random.randn(30)\n",
    "\n",
    "# Calculate the mean value of the vector\n",
    "mean_value = np.mean(random_vector)\n",
    "\n",
    "print(\"Random vector:\", random_vector)\n",
    "print(\"Mean value:\", mean_value)\n"
   ]
  },
  {
   "cell_type": "code",
   "execution_count": 21,
   "id": "9dc68d47",
   "metadata": {},
   "outputs": [
    {
     "name": "stdout",
     "output_type": "stream",
     "text": [
      "[[1. 1. 1. 1. 1. 1.]\n",
      " [1. 0. 0. 0. 0. 1.]\n",
      " [1. 0. 0. 0. 0. 1.]\n",
      " [1. 0. 0. 0. 0. 1.]\n",
      " [1. 0. 0. 0. 0. 1.]\n",
      " [1. 1. 1. 1. 1. 1.]]\n"
     ]
    }
   ],
   "source": [
    "#### 15. Create a 2d array with 1 on the border and 0 inside (★☆☆)\n",
    "import numpy as np\n",
    "\n",
    "# Define the shape of the 2D array\n",
    "rows, cols = 6, 6  \n",
    "\n",
    "# Create a 2D array filled with zeros\n",
    "array_2d = np.zeros((rows, cols))\n",
    "\n",
    "# Set the border elements to 1\n",
    "array_2d[0, :] = 1\n",
    "array_2d[:, 0] = 1\n",
    "array_2d[-1, :] = 1\n",
    "array_2d[:, -1] = 1\n",
    "\n",
    "print(array_2d)\n"
   ]
  },
  {
   "cell_type": "code",
   "execution_count": 22,
   "id": "6438ac2e",
   "metadata": {},
   "outputs": [
    {
     "name": "stdout",
     "output_type": "stream",
     "text": [
      "Existing Array:\n",
      "[[1. 1. 1.]\n",
      " [1. 1. 1.]\n",
      " [1. 1. 1.]]\n",
      "\n",
      "Array with Border:\n",
      "[[0. 0. 0. 0. 0.]\n",
      " [0. 1. 1. 1. 0.]\n",
      " [0. 1. 1. 1. 0.]\n",
      " [0. 1. 1. 1. 0.]\n",
      " [0. 0. 0. 0. 0.]]\n"
     ]
    }
   ],
   "source": [
    "#### 16. How to add a border (filled with 0's) around an existing array? (★☆☆)\n",
    "import numpy as np\n",
    "\n",
    "# Example existing array\n",
    "existing_array = np.ones((3, 3))  # Replace this with your existing array\n",
    "\n",
    "# Determine the shape of the new larger array\n",
    "rows, cols = existing_array.shape[0] + 2, existing_array.shape[1] + 2\n",
    "\n",
    "# Create a new larger array filled with zeros\n",
    "new_array = np.zeros((rows, cols))\n",
    "\n",
    "# Place the existing array inside the new array, leaving a border of zeros\n",
    "new_array[1:-1, 1:-1] = existing_array\n",
    "\n",
    "print(\"Existing Array:\")\n",
    "print(existing_array)\n",
    "print(\"\\nArray with Border:\")\n",
    "print(new_array)\n"
   ]
  },
  {
   "cell_type": "code",
   "execution_count": 23,
   "id": "1b50bcb6",
   "metadata": {},
   "outputs": [
    {
     "name": "stdout",
     "output_type": "stream",
     "text": [
      "Result 1: nan\n",
      "Result 2: False\n",
      "Result 3: False\n",
      "Result 4: nan\n",
      "Result 5: True\n",
      "Result 6: False\n"
     ]
    }
   ],
   "source": [
    "#### 17. What is the result of the following expression? (★☆☆)\n",
    "#```python\n",
    "#0 * np.nan\n",
    "#np.nan == np.nan\n",
    "#np.inf > np.nan\n",
    "#np.nan - np.nan\n",
    "#np.nan in set([np.nan])\n",
    "#0.3 == 3 * 0.1\n",
    "import numpy as np\n",
    "\n",
    "result_1 = 0 * np.nan  \n",
    "result_2 = np.nan == np.nan  \n",
    "result_3 = np.inf > np.nan  \n",
    "result_4 = np.nan - np.nan  \n",
    "result_5 = np.nan in set([np.nan])  \n",
    "result_6 = 0.3 == 3 * 0.1  \n",
    "\n",
    "print(\"Result 1:\", result_1)\n",
    "print(\"Result 2:\", result_2)\n",
    "print(\"Result 3:\", result_3)\n",
    "print(\"Result 4:\", result_4)\n",
    "print(\"Result 5:\", result_5)\n",
    "print(\"Result 6:\", result_6)\n"
   ]
  },
  {
   "cell_type": "code",
   "execution_count": 24,
   "id": "0dbbc80b",
   "metadata": {},
   "outputs": [
    {
     "name": "stdout",
     "output_type": "stream",
     "text": [
      "[[0. 0. 0. 0. 0.]\n",
      " [1. 0. 0. 0. 0.]\n",
      " [0. 2. 0. 0. 0.]\n",
      " [0. 0. 3. 0. 0.]\n",
      " [0. 0. 0. 4. 0.]]\n"
     ]
    }
   ],
   "source": [
    "#### 18. Create a 5x5 matrix with values 1,2,3,4 just below the diagonal (★☆☆)\n",
    "import numpy as np\n",
    "\n",
    "# Create a 5x5 matrix filled with zeros\n",
    "matrix_5x5 = np.zeros((5, 5))\n",
    "\n",
    "# Assign values 1, 2, 3, 4 just below the diagonal\n",
    "np.fill_diagonal(matrix_5x5[1:], [1, 2, 3, 4])\n",
    "\n",
    "print(matrix_5x5)\n"
   ]
  },
  {
   "cell_type": "code",
   "execution_count": 25,
   "id": "0eb66aed",
   "metadata": {},
   "outputs": [
    {
     "name": "stdout",
     "output_type": "stream",
     "text": [
      "[[0 1 0 1 0 1 0 1]\n",
      " [1 0 1 0 1 0 1 0]\n",
      " [0 1 0 1 0 1 0 1]\n",
      " [1 0 1 0 1 0 1 0]\n",
      " [0 1 0 1 0 1 0 1]\n",
      " [1 0 1 0 1 0 1 0]\n",
      " [0 1 0 1 0 1 0 1]\n",
      " [1 0 1 0 1 0 1 0]]\n"
     ]
    }
   ],
   "source": [
    "#### 19. Create a 8x8 matrix and fill it with a checkerboard pattern (★☆☆)\n",
    "import numpy as np\n",
    "matrix_8x8 = np.zeros((8, 8), dtype=int)\n",
    "matrix_8x8[1::2, ::2] = 1  \n",
    "matrix_8x8[::2, 1::2] = 1  \n",
    "print(matrix_8x8)\n"
   ]
  },
  {
   "cell_type": "code",
   "execution_count": 26,
   "id": "dcd798ce",
   "metadata": {},
   "outputs": [
    {
     "name": "stdout",
     "output_type": "stream",
     "text": [
      "Index (x, y, z) of the 100th element: (1, 5, 3)\n"
     ]
    }
   ],
   "source": [
    "#### 20. Consider a (6,7,8) shape array, what is the index (x,y,z) of the 100th element? (★☆☆)\n",
    "import numpy as np\n",
    "\n",
    "# Define the shape of the array\n",
    "array_shape = (6, 7, 8)\n",
    "total_elements = np.prod(array_shape)\n",
    "\n",
    "index_100th_element = 99  # (Since indexing starts from 0)\n",
    "# Finding the index (x, y, z) of the 100th element\n",
    "index_xyz = np.unravel_index(index_100th_element, array_shape)\n",
    "\n",
    "print(\"Index (x, y, z) of the 100th element:\", index_xyz)\n"
   ]
  },
  {
   "cell_type": "code",
   "execution_count": 27,
   "id": "1b543412",
   "metadata": {},
   "outputs": [
    {
     "name": "stdout",
     "output_type": "stream",
     "text": [
      "[[0 1 0 1 0 1 0 1]\n",
      " [1 0 1 0 1 0 1 0]\n",
      " [0 1 0 1 0 1 0 1]\n",
      " [1 0 1 0 1 0 1 0]\n",
      " [0 1 0 1 0 1 0 1]\n",
      " [1 0 1 0 1 0 1 0]\n",
      " [0 1 0 1 0 1 0 1]\n",
      " [1 0 1 0 1 0 1 0]]\n"
     ]
    }
   ],
   "source": [
    "#### 21. Create a checkerboard 8x8 matrix using the tile function (★☆☆)\n",
    "import numpy as np\n",
    "checkerboard_tile = np.array([[0, 1], [1, 0]])\n",
    "checkerboard_8x8 = np.tile(checkerboard_tile, (4, 4))\n",
    "print(checkerboard_8x8)"
   ]
  },
  {
   "cell_type": "code",
   "execution_count": 28,
   "id": "e725ac50",
   "metadata": {},
   "outputs": [
    {
     "name": "stdout",
     "output_type": "stream",
     "text": [
      "Original random matrix:\n",
      "[[ 0.32854522  1.38700689  1.26124114 -0.83518978 -0.60353496]\n",
      " [-1.15666809  0.30549532 -0.23804843  0.12578436 -1.20845235]\n",
      " [-0.96920533 -1.61213294  0.72591475 -0.58166454  1.0833478 ]\n",
      " [-0.21224302 -1.04453192  0.53600758 -1.62183058  0.91894018]\n",
      " [ 1.74672559  0.99069094 -1.39271184  0.37730543  0.34740379]]\n",
      "\n",
      "Normalized matrix:\n",
      "[[ 0.38778766  1.46167482  1.33407623 -0.79290704 -0.5578762 ]\n",
      " [-1.11907041  0.36440185 -0.18706325  0.18207186 -1.17160935]\n",
      " [-0.92887567 -1.58117298  0.79094826 -0.53568705  1.15359036]\n",
      " [-0.16088176 -1.00530003  0.59827347 -1.59101195  0.98678674]\n",
      " [ 1.82663589  1.05958316 -1.35855415  0.43725848  0.40692106]]\n"
     ]
    }
   ],
   "source": [
    "#### 22. Normalize a 5x5 random matrix (★☆☆)\n",
    "import numpy as np\n",
    "\n",
    "# Create a 5x5 random matrix\n",
    "random_matrix = np.random.randn(5, 5)\n",
    "mean_value = np.mean(random_matrix)\n",
    "std_deviation = np.std(random_matrix)\n",
    "normalized_matrix = (random_matrix - mean_value) / std_deviation\n",
    "print(\"Original random matrix:\")\n",
    "print(random_matrix)\n",
    "print(\"\\nNormalized matrix:\")\n",
    "print(normalized_matrix)\n"
   ]
  },
  {
   "cell_type": "code",
   "execution_count": 29,
   "id": "2b62659b",
   "metadata": {},
   "outputs": [
    {
     "name": "stdout",
     "output_type": "stream",
     "text": [
      "Custom RGBA dtype:\n",
      "[('R', 'u1'), ('G', 'u1'), ('B', 'u1'), ('A', 'u1')]\n",
      "\n",
      "Example RGBA color:\n",
      "(255, 127, 64, 255)\n"
     ]
    }
   ],
   "source": [
    "#### 23. Create a custom dtype that describes a color as four unsigned bytes (RGBA) (★☆☆)\n",
    "import numpy as np\n",
    "\n",
    "# Create a custom dtype for RGBA colors using np.dtype()\n",
    "rgba_dtype = np.dtype([('R', np.uint8), ('G', np.uint8), ('B', np.uint8), ('A', np.uint8)])\n",
    "\n",
    "# Example color in RGBA format\n",
    "example_color = np.array((255, 127, 64, 255), dtype=rgba_dtype)\n",
    "\n",
    "print(\"Custom RGBA dtype:\")\n",
    "print(rgba_dtype)\n",
    "print(\"\\nExample RGBA color:\")\n",
    "print(example_color)\n"
   ]
  },
  {
   "cell_type": "code",
   "execution_count": 30,
   "id": "28535400",
   "metadata": {},
   "outputs": [
    {
     "name": "stdout",
     "output_type": "stream",
     "text": [
      "5x3 Matrix:\n",
      "[[0.81076481 0.04119796 0.23902625]\n",
      " [0.27081264 0.99536305 0.48520638]\n",
      " [0.93608472 0.38925484 0.87495954]\n",
      " [0.81624837 0.39578054 0.27816205]\n",
      " [0.39314868 0.85625383 0.43789154]]\n",
      "\n",
      "3x2 Matrix:\n",
      "[[0.85350372 0.07637263]\n",
      " [0.12307822 0.51511874]\n",
      " [0.15570095 0.90695634]]\n",
      "\n",
      "Result of multiplication (5x3) dot (3x2):\n",
      "[[0.73427796 0.29992845]\n",
      " [0.42919421 0.97347383]\n",
      " [0.98309261 1.06555381]\n",
      " [0.78869308 0.51849383]\n",
      " [0.50912019 0.86824669]]\n"
     ]
    }
   ],
   "source": [
    "#### 24. Multiply a 5x3 matrix by a 3x2 matrix (real matrix product) (★☆☆)\n",
    "import numpy as np\n",
    "# Create a 5x3 matrix\n",
    "matrix_5x3 = np.random.rand(5, 3)\n",
    "# Create a 3x2 matrix\n",
    "matrix_3x2 = np.random.rand(3, 2)\n",
    "\n",
    "# Perform matrix multiplication\n",
    "result_matrix = np.dot(matrix_5x3, matrix_3x2)\n",
    "\n",
    "print(\"5x3 Matrix:\")\n",
    "print(matrix_5x3)\n",
    "print(\"\\n3x2 Matrix:\")\n",
    "print(matrix_3x2)\n",
    "print(\"\\nResult of multiplication (5x3) dot (3x2):\")\n",
    "print(result_matrix)\n"
   ]
  },
  {
   "cell_type": "code",
   "execution_count": 31,
   "id": "e57c870d",
   "metadata": {},
   "outputs": [
    {
     "name": "stdout",
     "output_type": "stream",
     "text": [
      "Original 1D array:\n",
      "[ 1 -4 -6 -7  9  2 -5  3  8]\n"
     ]
    }
   ],
   "source": [
    "#### 25. Given a 1D array, negate all elements which are between 3 and 8, in place. (★☆☆)\n",
    "import numpy as np\n",
    "\n",
    "# Create a 1D NumPy array\n",
    "array_1d = np.array([1, 4, 6, 7, 9, 2, 5, 3, 8])\n",
    "\n",
    "# Negate elements between 3 and 8\n",
    "array_1d[(array_1d > 3) & (array_1d < 8)] *= -1\n",
    "\n",
    "print(\"Original 1D array:\")\n",
    "print(array_1d)\n"
   ]
  },
  {
   "cell_type": "code",
   "execution_count": 33,
   "id": "2e28e63a",
   "metadata": {},
   "outputs": [
    {
     "name": "stdout",
     "output_type": "stream",
     "text": [
      "9\n",
      "10\n"
     ]
    }
   ],
   "source": [
    "#### 26. What is the output of the following script? (★☆☆)\n",
    "#```python\n",
    "# Author: Jake VanderPlas\n",
    "\n",
    "print(sum(range(5),-1))\n",
    "from numpy import *\n",
    "print(sum(range(5),-1))"
   ]
  },
  {
   "cell_type": "code",
   "execution_count": 34,
   "id": "9674320f",
   "metadata": {},
   "outputs": [
    {
     "name": "stdout",
     "output_type": "stream",
     "text": [
      "Original float array:\n",
      "[-2.6 -1.5  0.   1.3  2.8]\n",
      "\n",
      "Rounded away from zero:\n",
      "[-3. -2.  0.  2.  3.]\n"
     ]
    }
   ],
   "source": [
    "#### 27. How to round away from zero a float array ? (★☆☆)\n",
    "import numpy as np\n",
    "\n",
    "# Example float array\n",
    "float_array = np.array([-2.6, -1.5, 0.0, 1.3, 2.8])\n",
    "\n",
    "# Round away from zero\n",
    "rounded_array = np.copysign(np.ceil(np.abs(float_array)), float_array)\n",
    "print(\"Original float array:\")\n",
    "print(float_array)\n",
    "print(\"\\nRounded away from zero:\")\n",
    "print(rounded_array)\n"
   ]
  },
  {
   "cell_type": "code",
   "execution_count": 35,
   "id": "856c965b",
   "metadata": {},
   "outputs": [
    {
     "name": "stdout",
     "output_type": "stream",
     "text": [
      "Array 1: [1 2 3 4 5]\n",
      "Array 2: [3 4 5 6 7]\n",
      "\n",
      "Common values: [3 4 5]\n"
     ]
    }
   ],
   "source": [
    "#### 28. How to find common values between two arrays? (★☆☆)\n",
    "import numpy as np\n",
    "\n",
    "# Two example arrays\n",
    "array1 = np.array([1, 2, 3, 4, 5])\n",
    "array2 = np.array([3, 4, 5, 6, 7])\n",
    "\n",
    "# Find common values between the two arrays\n",
    "common_values = np.intersect1d(array1, array2)\n",
    "\n",
    "print(\"Array 1:\", array1)\n",
    "print(\"Array 2:\", array2)\n",
    "print(\"\\nCommon values:\", common_values)\n"
   ]
  },
  {
   "cell_type": "code",
   "execution_count": 37,
   "id": "42d43d6e",
   "metadata": {},
   "outputs": [
    {
     "name": "stdout",
     "output_type": "stream",
     "text": [
      "Yesterday: 2024-01-03\n",
      "Today: 2024-01-04\n",
      "Tomorrow: 2024-01-05\n"
     ]
    }
   ],
   "source": [
    "#### 29. How to get the dates of yesterday, today and tomorrow? (★☆☆)\n",
    "from datetime import datetime, timedelta\n",
    "\n",
    "# Get today's date\n",
    "today = datetime.now().date()\n",
    "\n",
    "# Calculate dates for yesterday and tomorrow\n",
    "yesterday = today - timedelta(days=1)\n",
    "tomorrow = today + timedelta(days=1)\n",
    "\n",
    "print(\"Yesterday:\", yesterday)\n",
    "print(\"Today:\", today)\n",
    "print(\"Tomorrow:\", tomorrow)\n"
   ]
  },
  {
   "cell_type": "code",
   "execution_count": 38,
   "id": "44530e74",
   "metadata": {},
   "outputs": [
    {
     "name": "stdout",
     "output_type": "stream",
     "text": [
      "Dates corresponding to the month of July 2016:\n",
      "2016-07-01\n",
      "2016-07-02\n",
      "2016-07-03\n",
      "2016-07-04\n",
      "2016-07-05\n",
      "2016-07-06\n",
      "2016-07-07\n",
      "2016-07-08\n",
      "2016-07-09\n",
      "2016-07-10\n",
      "2016-07-11\n",
      "2016-07-12\n",
      "2016-07-13\n",
      "2016-07-14\n",
      "2016-07-15\n",
      "2016-07-16\n",
      "2016-07-17\n",
      "2016-07-18\n",
      "2016-07-19\n",
      "2016-07-20\n",
      "2016-07-21\n",
      "2016-07-22\n",
      "2016-07-23\n",
      "2016-07-24\n",
      "2016-07-25\n",
      "2016-07-26\n",
      "2016-07-27\n",
      "2016-07-28\n",
      "2016-07-29\n",
      "2016-07-30\n",
      "2016-07-31\n"
     ]
    }
   ],
   "source": [
    "#### 30. How to get all the dates corresponding to the month of July 2016? (★★☆)\n",
    "from datetime import datetime, timedelta\n",
    "\n",
    "# Define the start and end dates for July 2016\n",
    "start_date = datetime(2016, 7, 1)\n",
    "end_date = datetime(2016, 8, 1)\n",
    "dates_in_july_2016 = [start_date + timedelta(days=x) for x in range((end_date - start_date).days)]\n",
    "print(\"Dates corresponding to the month of July 2016:\")\n",
    "for date in dates_in_july_2016:\n",
    "    print(date.date())\n"
   ]
  },
  {
   "cell_type": "code",
   "execution_count": null,
   "id": "9a0fd966",
   "metadata": {},
   "outputs": [],
   "source": []
  }
 ],
 "metadata": {
  "kernelspec": {
   "display_name": "Python 3 (ipykernel)",
   "language": "python",
   "name": "python3"
  },
  "language_info": {
   "codemirror_mode": {
    "name": "ipython",
    "version": 3
   },
   "file_extension": ".py",
   "mimetype": "text/x-python",
   "name": "python",
   "nbconvert_exporter": "python",
   "pygments_lexer": "ipython3",
   "version": "3.11.5"
  }
 },
 "nbformat": 4,
 "nbformat_minor": 5
}
